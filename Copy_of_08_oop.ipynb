{
  "nbformat": 4,
  "nbformat_minor": 0,
  "metadata": {
    "colab": {
      "provenance": []
    },
    "kernelspec": {
      "name": "python3",
      "display_name": "Python 3"
    },
    "language_info": {
      "name": "python"
    }
  },
  "cells": [
    {
      "cell_type": "markdown",
      "source": [
        "# Recap & intro\n",
        "\n",
        "The data structures mentioned so far on the course (booleans, strings, lists) can capture limited information.\n",
        "\n",
        "Let's try to represent something more complex than these primitive data structures, like a cat. In this example, a cat will have a name, a color and the number of lives *left*"
      ],
      "metadata": {
        "id": "t-vf2FrVEmAg"
      }
    },
    {
      "cell_type": "code",
      "source": [
        "cat1 = [\"Oreo\", \"dark brown\", 9]\n",
        "cat2 = [\"Coco\",  7]\n",
        "cat3 = [\"Boots\", \"red\", 8]\n",
        "\n",
        "# access name\n",
        "cat1[0]"
      ],
      "metadata": {
        "colab": {
          "base_uri": "https://localhost:8080/",
          "height": 35
        },
        "id": "glx4L5Z4GWHe",
        "outputId": "9ef6098d-1724-47d9-d494-e97f1de44cd2"
      },
      "execution_count": null,
      "outputs": [
        {
          "output_type": "execute_result",
          "data": {
            "text/plain": [
              "'Oreo'"
            ],
            "application/vnd.google.colaboratory.intrinsic+json": {
              "type": "string"
            }
          },
          "metadata": {},
          "execution_count": 2
        }
      ]
    },
    {
      "cell_type": "code",
      "source": [],
      "metadata": {
        "id": "LAKB7f9IwtRG"
      },
      "execution_count": null,
      "outputs": []
    },
    {
      "cell_type": "code",
      "source": [],
      "metadata": {
        "id": "8ybaSpslwtUN"
      },
      "execution_count": null,
      "outputs": []
    },
    {
      "cell_type": "code",
      "source": [],
      "metadata": {
        "id": "He6XwNpvwtdo"
      },
      "execution_count": null,
      "outputs": []
    },
    {
      "cell_type": "markdown",
      "source": [
        "There are problems with this approach:\n",
        "* it is easy to forget later in code what exactly cat[0] means\n",
        "* one of the attributes is missing for cat2, therefore the index of the variables is shifted\n"
      ],
      "metadata": {
        "id": "4jva6oUdHegi"
      }
    },
    {
      "cell_type": "markdown",
      "source": [
        "What more complex data structure could we use?"
      ],
      "metadata": {
        "id": "LBlvPKuGAnb7"
      }
    },
    {
      "cell_type": "code",
      "source": [],
      "metadata": {
        "id": "u_Fk01OZwuPw"
      },
      "execution_count": null,
      "outputs": []
    },
    {
      "cell_type": "code",
      "source": [],
      "metadata": {
        "id": "bBdjBv7_wuSx"
      },
      "execution_count": null,
      "outputs": []
    },
    {
      "cell_type": "code",
      "source": [
        "cat1 = {'Name':\"Oreo\", 'Color':\"dark brown\", 'Lives':9}\n",
        "\n",
        "cat2 = {'Name':\"Coco\", 'Lives':7}\n",
        "\n",
        "cat3 = {'Name':\"Boots\", 'Color':\"red\", 'Lives':8}"
      ],
      "metadata": {
        "id": "qs2nK00vAv0K"
      },
      "execution_count": null,
      "outputs": []
    },
    {
      "cell_type": "code",
      "source": [
        "\n",
        "cat1['Name'], cat3['Lives']"
      ],
      "metadata": {
        "colab": {
          "base_uri": "https://localhost:8080/"
        },
        "id": "c0C13T2NBfAy",
        "outputId": "ca1a99e1-a75d-45cd-b249-82211f860ca9"
      },
      "execution_count": null,
      "outputs": [
        {
          "output_type": "execute_result",
          "data": {
            "text/plain": [
              "('Oreo', 8)"
            ]
          },
          "metadata": {},
          "execution_count": 6
        }
      ]
    },
    {
      "cell_type": "code",
      "source": [
        "cat2['Color']"
      ],
      "metadata": {
        "colab": {
          "base_uri": "https://localhost:8080/",
          "height": 169
        },
        "id": "yYP_Jd3qCVto",
        "outputId": "e7f55514-8863-4942-9f02-6ad7531916c8"
      },
      "execution_count": null,
      "outputs": [
        {
          "output_type": "error",
          "ename": "KeyError",
          "evalue": "ignored",
          "traceback": [
            "\u001b[0;31m---------------------------------------------------------------------------\u001b[0m",
            "\u001b[0;31mKeyError\u001b[0m                                  Traceback (most recent call last)",
            "\u001b[0;32m<ipython-input-7-b53e642f6c01>\u001b[0m in \u001b[0;36m<cell line: 1>\u001b[0;34m()\u001b[0m\n\u001b[0;32m----> 1\u001b[0;31m \u001b[0mcat2\u001b[0m\u001b[0;34m[\u001b[0m\u001b[0;34m'Color'\u001b[0m\u001b[0;34m]\u001b[0m\u001b[0;34m\u001b[0m\u001b[0;34m\u001b[0m\u001b[0m\n\u001b[0m",
            "\u001b[0;31mKeyError\u001b[0m: 'Color'"
          ]
        }
      ]
    },
    {
      "cell_type": "markdown",
      "source": [
        "Yet it still does not encapsulate that cats are similar and should behave similarly.\n",
        "\n",
        "To solve these, we will introduce classes and object oriented programming."
      ],
      "metadata": {
        "id": "eFF9PGqcAnev"
      }
    },
    {
      "cell_type": "markdown",
      "source": [
        "# Classes\n",
        "*Object Oriented Programming* (OOP) is one of the most effective approaches to software development. Most modern programming languages support this principle, in part because it makes the structure of code transparent, greatly facilitating communication and teamwork between developers.\n",
        "\n",
        "OOP is based on objects and the classes that describe them. A **class** describes the general behaviour and properties of an object of a particular type. It is a user defined structure that contains the blueprint for how something should be defined, but contains no data.\n",
        "\n",
        "Creating classes in Python can be done with the class keyword. It is recommended practice to use CamelCase in class names\n",
        "\n",
        "\n"
      ],
      "metadata": {
        "id": "Ri2DhRUa7PJN"
      }
    },
    {
      "cell_type": "code",
      "execution_count": null,
      "metadata": {
        "id": "BxgUJhtD45_w"
      },
      "outputs": [],
      "source": [
        "class Cat:\n",
        "    pass"
      ]
    },
    {
      "cell_type": "markdown",
      "source": [
        "## The constructor\n",
        "Many real-world analogies can be found for constructing classes. Take, for example, the classification of animals (the similarity in name is not accidental). Cats can have many describing characterestics, but let's say for now that our *Cat* class will have the same 3 properties as in the previous example: name, color, and number of lives.\n",
        "\n",
        "The *Cat* class specifies what attributes are necessary for defining a cat, but it doesn’t contain the values of these attributes for any specific cat. And the properties all *Cat* objects have are defined in the contructor, which in Python is analogous to the `__init__()` function."
      ],
      "metadata": {
        "id": "9Ghu0em2B2z8"
      }
    },
    {
      "cell_type": "code",
      "source": [
        "class Cat:\n",
        "    def __init__(self, name, color):\n",
        "        self.name = name\n",
        "        self.color = color\n",
        "        self.lives = 9\n"
      ],
      "metadata": {
        "id": "cPu53MT2B3Xi"
      },
      "execution_count": null,
      "outputs": []
    },
    {
      "cell_type": "markdown",
      "source": [
        " The creation of an object corresponding to a class is called **instantiation**, which results in a new object of the class. This object is called an **instance** of the class.  The `__init__()` function sets the initial state of the object by assigning values to its properties.\n",
        "\n",
        " `__init__()` is like any other Python function, except one thing: its first parameter will always be `self`, which the instance on which a function is called.\n",
        "\n",
        " We can instantiate a class by calling its name followed by brackets, this calls the constructor automatically."
      ],
      "metadata": {
        "id": "26w7Oq-nCTcM"
      }
    },
    {
      "cell_type": "code",
      "source": [
        "kitty0 = Cat(\"Oreo\", \"dark brown\")\n",
        "print(kitty0)\n",
        "print(kitty0.name)\n",
        "print(kitty0.color)\n",
        "print(type(kitty0))\n",
        "\n",
        "kitty = Cat(\"Coco\", \"white\")\n",
        "\n",
        "print(kitty)\n",
        "print(kitty.name)\n",
        "print(kitty.color)"
      ],
      "metadata": {
        "colab": {
          "base_uri": "https://localhost:8080/"
        },
        "id": "kvEFW0TQCSlV",
        "outputId": "d0648bce-08d5-4b1c-98ed-05139944be65"
      },
      "execution_count": null,
      "outputs": [
        {
          "output_type": "stream",
          "name": "stdout",
          "text": [
            "<__main__.Cat object at 0x7f1fe6b77580>\n",
            "Oreo\n",
            "dark brown\n",
            "<class '__main__.Cat'>\n",
            "<__main__.Cat object at 0x7f1fe7a67be0>\n",
            "Coco\n",
            "white\n"
          ]
        }
      ]
    },
    {
      "cell_type": "markdown",
      "source": [
        "We can also define functions that can operate on instances of the class:"
      ],
      "metadata": {
        "id": "y6jr1zZZDJCk"
      }
    },
    {
      "cell_type": "code",
      "source": [
        "class Cat:\n",
        "    def __init__(self, name, color):\n",
        "        self.name = name\n",
        "        self.true_color = color\n",
        "        self.visible_color = color\n",
        "        self.lives = 9\n",
        "\n",
        "    def jump_into_white_paint(self):\n",
        "        self.original_color = self.color\n",
        "        self.color = 'white'\n",
        "\n",
        "    def jump_into_acid(self):\n",
        "        self.lives -= 1"
      ],
      "metadata": {
        "id": "xB7BowScDQi8"
      },
      "execution_count": null,
      "outputs": []
    },
    {
      "cell_type": "code",
      "source": [],
      "metadata": {
        "id": "wkw_xHKc7S0I"
      },
      "execution_count": null,
      "outputs": []
    },
    {
      "cell_type": "code",
      "source": [],
      "metadata": {
        "id": "BkK9pD1d7S2e"
      },
      "execution_count": null,
      "outputs": []
    },
    {
      "cell_type": "code",
      "source": [
        "print(kitty0.original_color)"
      ],
      "metadata": {
        "colab": {
          "base_uri": "https://localhost:8080/"
        },
        "id": "2gh6aIymEUsz",
        "outputId": "b361805b-53d2-4bff-d7c1-cb04b1034769"
      },
      "execution_count": null,
      "outputs": [
        {
          "output_type": "stream",
          "name": "stdout",
          "text": [
            "dark brown\n"
          ]
        }
      ]
    },
    {
      "cell_type": "code",
      "source": [
        "kitty0.jump_into_white_paint()"
      ],
      "metadata": {
        "id": "9mUvyoruD2dH"
      },
      "execution_count": null,
      "outputs": []
    },
    {
      "cell_type": "code",
      "source": [
        "print(kitty0.name, kitty0.color, kitty0.lives, kitty0.original_color)"
      ],
      "metadata": {
        "colab": {
          "base_uri": "https://localhost:8080/"
        },
        "id": "btT3Wh22D9pj",
        "outputId": "95b8b88a-635c-4119-cd1a-a1bdab80d120"
      },
      "execution_count": null,
      "outputs": [
        {
          "output_type": "stream",
          "name": "stdout",
          "text": [
            "Oreo white 9 dark brown\n"
          ]
        }
      ]
    },
    {
      "cell_type": "code",
      "source": [
        "kitty0.jump_into_acid()"
      ],
      "metadata": {
        "id": "anBrcTtRD9sG"
      },
      "execution_count": null,
      "outputs": []
    },
    {
      "cell_type": "code",
      "source": [
        "print(kitty0.name, kitty0.color, kitty0.lives)"
      ],
      "metadata": {
        "colab": {
          "base_uri": "https://localhost:8080/"
        },
        "id": "l1NYaf0WD9tv",
        "outputId": "f9e3bded-40e7-499e-f20b-3ac5556b641a"
      },
      "execution_count": null,
      "outputs": [
        {
          "output_type": "stream",
          "name": "stdout",
          "text": [
            "Oreo white 8\n"
          ]
        }
      ]
    },
    {
      "cell_type": "markdown",
      "source": [
        "## Task - lose_n_lives\n",
        "Extend the `Cat` class with a function called `lose_n_lives`. It has one parameter, `n`, and the function reduces the number of lives the cat has by `n`!"
      ],
      "metadata": {
        "id": "10boCU1OI_XM"
      }
    },
    {
      "cell_type": "code",
      "source": [
        "class Cat:\n",
        "    def __init__(self, name, color):\n",
        "        self.name = name\n",
        "        self.true_color = color\n",
        "        self.visible_color = color\n",
        "        self.lives = 9\n",
        "        self.latin_name = \"Felis Gatus\"\n",
        "\n",
        "    def jump_into_white_paint(self):\n",
        "        self.visible_color = 'white'\n",
        "\n",
        "    def lose_n_lives(self, n):\n",
        "        self.lives -= n\n",
        "\n",
        "    def jump_into_water(self):\n",
        "        self.visible_color = self.true_color"
      ],
      "metadata": {
        "id": "L3j6DnX2JNdF"
      },
      "execution_count": null,
      "outputs": []
    },
    {
      "cell_type": "code",
      "source": [
        "kitty = Cat(\"Macsek\", \"purple\")"
      ],
      "metadata": {
        "id": "Kky8N2rr7UD1"
      },
      "execution_count": null,
      "outputs": []
    },
    {
      "cell_type": "code",
      "source": [],
      "metadata": {
        "id": "btVnDkmE7UGW"
      },
      "execution_count": null,
      "outputs": []
    },
    {
      "cell_type": "code",
      "source": [],
      "metadata": {
        "id": "T6uAhUlF7UKE"
      },
      "execution_count": null,
      "outputs": []
    },
    {
      "cell_type": "markdown",
      "source": [
        "## Class and instance attributes\n",
        "\n",
        "The attributes created in the constructor are called *instance attributes*, as they are unique to the instances. Their value needs to be passed in the constructor.\n",
        "\n",
        "On the other hand, *class attributes* are attributes that have the same value for all class instances. You can define a class attribute by assigning a value to a variable name outside of `__init__()`.\n"
      ],
      "metadata": {
        "id": "H3V8vKheoJrI"
      }
    },
    {
      "cell_type": "code",
      "source": [
        "class Cat:\n",
        "    def __init__(self, name, color):\n",
        "        self.name = name\n",
        "        self.color = color\n",
        "        self.lives = 9\n",
        "\n",
        "    species = \"Felis catus\"\n",
        "    legs = [1,2,3,4]"
      ],
      "metadata": {
        "id": "OB4Kt8PxygaU"
      },
      "execution_count": null,
      "outputs": []
    },
    {
      "cell_type": "markdown",
      "source": [
        "Class attributes can be accessed without an instance. If we want to modify this attribute, it is gonna change for all instances, so in that case, use instance attributes."
      ],
      "metadata": {
        "id": "mLtpgXf9y13g"
      }
    },
    {
      "cell_type": "code",
      "source": [
        "Cat.species"
      ],
      "metadata": {
        "colab": {
          "base_uri": "https://localhost:8080/",
          "height": 35
        },
        "id": "nuHZkSJIyw0s",
        "outputId": "bda18b0e-8b3b-4a3f-cc12-2c375d4b7b58"
      },
      "execution_count": null,
      "outputs": [
        {
          "output_type": "execute_result",
          "data": {
            "text/plain": [
              "'Felis catus'"
            ],
            "application/vnd.google.colaboratory.intrinsic+json": {
              "type": "string"
            }
          },
          "metadata": {},
          "execution_count": 7
        }
      ]
    },
    {
      "cell_type": "markdown",
      "source": [
        "If a mutable class attribute is modified on an instance, it changes for all instances."
      ],
      "metadata": {
        "id": "2wqy1QAsKIxZ"
      }
    },
    {
      "cell_type": "code",
      "source": [
        "kitty0 = Cat(\"Oreo\", \"dark brown\")\n",
        "print(kitty0.species)\n",
        "kitty0.legs.pop()\n",
        "print(kitty0.legs)\n",
        "\n",
        "kitty = Cat(\"Coco\", \"white\")\n",
        "print(kitty.legs)"
      ],
      "metadata": {
        "colab": {
          "base_uri": "https://localhost:8080/"
        },
        "id": "KqsuBHlKJp_C",
        "outputId": "19187ef0-8573-45b8-d89d-59bf0432274f"
      },
      "execution_count": null,
      "outputs": [
        {
          "output_type": "stream",
          "name": "stdout",
          "text": [
            "Felis catus\n",
            "[1, 2, 3]\n",
            "[1, 2, 3]\n"
          ]
        }
      ]
    },
    {
      "cell_type": "markdown",
      "source": [
        "## Instance methods\n",
        "\n",
        "Instance methods are functions that are defined inside a class and can only be called from an instance of that class. Just like `__init__()`,  an instance method’s first parameter is always `self`.\n",
        "\n",
        "So let's add an instance method to our class that reduces its number of lifes by 1!"
      ],
      "metadata": {
        "id": "7SryOjsKzrgp"
      }
    },
    {
      "cell_type": "code",
      "source": [
        "class Cat:\n",
        "    species = \"Felis catus\"\n",
        "\n",
        "    def __init__(self, name, color):\n",
        "        self.name = name\n",
        "        self.color = color\n",
        "        self.lives = 9\n",
        "\n",
        "    def not_landing_on_its_feet(self):\n",
        "        self.lives -= 1\n"
      ],
      "metadata": {
        "id": "oD8JR8np0vlV"
      },
      "execution_count": null,
      "outputs": []
    },
    {
      "cell_type": "markdown",
      "source": [
        "## Static methods\n",
        "These methods do not need an instance to be called, as they proivde generic information of the class. They don't have access to instance attributes, but they have access to class attributes.\n",
        "\n",
        "Analogously to this, the first argument of a static method is not the instance. These methods are not tied to a specific instance, and can be called after the classname.\n",
        "\n",
        "A static method can be created with the `staticmethod` decorator."
      ],
      "metadata": {
        "id": "-QllgRP33Db8"
      }
    },
    {
      "cell_type": "code",
      "source": [
        "class Cat:\n",
        "    species = \"Felis catus\"\n",
        "\n",
        "    def __init__(self, name, color):\n",
        "        self.name = name\n",
        "        self.color = color\n",
        "        self.lives = 9\n",
        "\n",
        "    def not_landing_on_its_feet(self):\n",
        "        self.lives -= 1\n",
        "\n",
        "    @staticmethod\n",
        "    def cat_info():\n",
        "        print(\"Cats are small, carnivorous mammals.\")\n",
        "        print(\"They are known for their agility and hunting skills.\")\n"
      ],
      "metadata": {
        "id": "XIP98AMt3Cm0"
      },
      "execution_count": null,
      "outputs": []
    },
    {
      "cell_type": "code",
      "source": [
        "Cat.cat_info()\n",
        "\n",
        "oreo = Cat(\"oreo\", \"brown\")\n",
        "oreo.cat_info()"
      ],
      "metadata": {
        "colab": {
          "base_uri": "https://localhost:8080/"
        },
        "id": "qoyI6cBoIfEg",
        "outputId": "f760af28-1a7c-4ef7-f5df-39ad96a7ffe6"
      },
      "execution_count": null,
      "outputs": [
        {
          "output_type": "stream",
          "name": "stdout",
          "text": [
            "Cats are small, carnivorous mammals.\n",
            "They are known for their agility and hunting skills.\n",
            "Cats are small, carnivorous mammals.\n",
            "They are known for their agility and hunting skills.\n"
          ]
        }
      ]
    },
    {
      "cell_type": "markdown",
      "source": [
        "## Task - Create a class\n",
        "\n",
        "Create a `Vehicle` class, with the attributes `model` and milage `mileage`. Create 2 functions for the class:\n",
        "\n",
        "* `display_info`: prints info about what model the car is and how many milage it has\n",
        "* `add_milage`: increases the value of milage by the `distance` parameter\n",
        "\n",
        "Create an instance of the class and call the functions on it!"
      ],
      "metadata": {
        "id": "1HGLcMkLKUIB"
      }
    },
    {
      "cell_type": "code",
      "source": [
        "class Vehicle:\n",
        "    def __init__(self, model, mileage):\n",
        "        self.model = model\n",
        "        self.mileage = mileage\n",
        "\n",
        "    def display_info(self):\n",
        "        print(f\"{self.model}: {self.mileage}\")\n",
        "\n",
        "    def add_mileage(self, distance):\n",
        "        self.mileage += distance\n",
        "\n",
        "\n"
      ],
      "metadata": {
        "id": "GmLke7jOAwgt"
      },
      "execution_count": null,
      "outputs": []
    },
    {
      "cell_type": "code",
      "source": [
        "car = Vehicle(\"Suzuki\", 495000)\n",
        "car.display_info()\n",
        "car.add_mileage(\"50000\")\n",
        "car.display_info()\n"
      ],
      "metadata": {
        "id": "8eDqCtXwLwqe",
        "colab": {
          "base_uri": "https://localhost:8080/"
        },
        "outputId": "72f2b5f4-cc15-4365-bce8-4f6fd543ffa9"
      },
      "execution_count": null,
      "outputs": [
        {
          "output_type": "stream",
          "name": "stdout",
          "text": [
            "Suzuki: 495000\n",
            "Suzuki: 545000\n"
          ]
        }
      ]
    },
    {
      "cell_type": "markdown",
      "source": [
        "## Inheritance, polymorphism\n",
        "\n",
        "Inhertince is when a class takes on the attributes and methods of an other class and etend them further. The newly created class is called a *child class* and they are derived from the *parent class*."
      ],
      "metadata": {
        "id": "CdU_waBgoQwf"
      }
    },
    {
      "cell_type": "code",
      "source": [
        "class Cat:\n",
        "    species = \"Felis catus\"\n",
        "\n",
        "    def __init__(self):\n",
        "        #self.name = name\n",
        "        self.lives = 9\n",
        "\n",
        "    def not_landing_on_its_feet(self):\n",
        "        self.lives -= 1\n",
        "\n",
        "class KittyCat(Cat):\n",
        "    def __init__(self, name, trick):\n",
        "        # calling parent constructor\n",
        "        super().__init__()\n",
        "\n",
        "        # new attribute\n",
        "        self.trick = trick\n",
        "\n",
        "    # extend functionality\n",
        "    def perform_trick(self):\n",
        "        print(f\"Performed {self.trick}\")\n",
        "\n",
        "\n",
        "class BigCat(Cat):\n",
        "    def __init__(self, name):\n",
        "        # calling parent constructor\n",
        "        super().__init__()\n",
        "\n",
        "    # override function\n",
        "    def not_landing_on_its_feet(self):\n",
        "        # it's tough out in the wild,\n",
        "        # no second chances\n",
        "        self.lives = 0"
      ],
      "metadata": {
        "id": "Atn8Utu31OnE"
      },
      "execution_count": null,
      "outputs": []
    },
    {
      "cell_type": "code",
      "source": [
        "boots = KittyCat(\"boots\", \"purr\")\n",
        "boots.perform_trick()\n",
        "print(boots.lives)\n",
        "simba = BigCat(\"Simba\")\n",
        "simba.not_landing_on_its_feet()\n",
        "\n",
        "simba.lives"
      ],
      "metadata": {
        "colab": {
          "base_uri": "https://localhost:8080/"
        },
        "id": "-3pCfJ8ZIsCr",
        "outputId": "49cab83d-40b2-4926-c0d4-328e6939a484"
      },
      "execution_count": null,
      "outputs": [
        {
          "output_type": "stream",
          "name": "stdout",
          "text": [
            "Performed purr\n",
            "9\n"
          ]
        },
        {
          "output_type": "execute_result",
          "data": {
            "text/plain": [
              "0"
            ]
          },
          "metadata": {},
          "execution_count": 34
        }
      ]
    },
    {
      "cell_type": "markdown",
      "source": [
        "The `super()` call gives us access to attributes of the parent(or super) class. Then in the example, we add a `trick` attribute in the `KittyCat` class and override a function in the `BigCat` class."
      ],
      "metadata": {
        "id": "wMWPD93O4W1U"
      }
    },
    {
      "cell_type": "markdown",
      "source": [
        "## Task - inheritance:\n",
        "\n",
        "Create a subclass Bus, that the previous `Vehicle` class with  the `capacity` attribute. Override the `display_info` function with adding the capacity information! Create an instance of the class and call the `display_info` function on it!"
      ],
      "metadata": {
        "id": "9GpLypEz3Yom"
      }
    },
    {
      "cell_type": "code",
      "source": [
        "class Bus(Vehicle):\n",
        "    def __init__(self, capacity, *args, **kwargs):\n",
        "        super().__init__(*args, **kwargs)\n",
        "        self.capacity = capacity\n",
        "\n",
        "    def display_info(self):\n",
        "        print(f\"Model:{self.model}, capacity: {self.capacity} mileage:{self.mileage}\")\n"
      ],
      "metadata": {
        "id": "-KCr0LmmME85"
      },
      "execution_count": null,
      "outputs": []
    },
    {
      "cell_type": "code",
      "source": [
        "b = Bus(120, \"Ikarus\", 50000)\n",
        "b.add_mileage(500)\n",
        "b.display_info()"
      ],
      "metadata": {
        "colab": {
          "base_uri": "https://localhost:8080/"
        },
        "id": "QYkekNJ_IX7C",
        "outputId": "4df752f2-d2ee-4fa0-a6aa-4151781e9048"
      },
      "execution_count": null,
      "outputs": [
        {
          "output_type": "stream",
          "name": "stdout",
          "text": [
            "Model:Ikarus, capacity: 120 mileage:50500\n"
          ]
        }
      ]
    },
    {
      "cell_type": "markdown",
      "source": [
        "# Modules\n",
        "\n",
        "Modules are Python files. They contain definitions of classes, functions, or variables that can be *imported* and used in other Python code.\n",
        "\n",
        "It is good practice to organize your code into modules."
      ],
      "metadata": {
        "id": "6HKqlgz3MGqX"
      }
    },
    {
      "cell_type": "code",
      "source": [
        "!gdown 1wkPW_uW-Ku4Hh5L_j1hbIq4KzfUJ2bHx"
      ],
      "metadata": {
        "colab": {
          "base_uri": "https://localhost:8080/"
        },
        "id": "9Wl062SJOhNW",
        "outputId": "184af0e6-80d1-42b4-9a8c-7f551a4d8651"
      },
      "execution_count": null,
      "outputs": [
        {
          "output_type": "stream",
          "name": "stdout",
          "text": [
            "Downloading...\n",
            "From: https://drive.google.com/uc?id=1wkPW_uW-Ku4Hh5L_j1hbIq4KzfUJ2bHx\n",
            "To: /content/fibo.py\n",
            "\r  0% 0.00/347 [00:00<?, ?B/s]\r100% 347/347 [00:00<00:00, 1.78MB/s]\n"
          ]
        }
      ]
    },
    {
      "cell_type": "code",
      "source": [
        "import fibo\n",
        "fibo.fib(10)"
      ],
      "metadata": {
        "colab": {
          "base_uri": "https://localhost:8080/"
        },
        "id": "80o9QNpaOqyX",
        "outputId": "94116faa-9f1d-40bb-9529-134f5a01cc78"
      },
      "execution_count": null,
      "outputs": [
        {
          "output_type": "stream",
          "name": "stdout",
          "text": [
            "0 1 1 2 3 5 8 \n"
          ]
        }
      ]
    },
    {
      "cell_type": "markdown",
      "source": [
        "## OOP summary\n",
        "The essence of object-oriented programming is that code is built from the interactions of different objects. The objects described by classes have properties defined by variables of different data types, their own functions and possible events that are executed when each piece of code occurs. Objects can trigger events of other objects or call their functions, thus continuing to run the program."
      ],
      "metadata": {
        "id": "LF8Ehmo5KgZk"
      }
    },
    {
      "cell_type": "markdown",
      "source": [
        "In Python, everything is an object, even functions and integers."
      ],
      "metadata": {
        "id": "aWiFM7o95Zhl"
      }
    },
    {
      "cell_type": "code",
      "source": [
        "x = 5\n",
        "print(x.__class__.__bases__)\n",
        "\n",
        "print.__class__.__bases__[0].__class__.__bases__[0].__class__.__bases__"
      ],
      "metadata": {
        "id": "wWGpR1zcKhA7",
        "colab": {
          "base_uri": "https://localhost:8080/"
        },
        "outputId": "517e1fe6-fb90-49a2-ff28-e601ec218066"
      },
      "execution_count": null,
      "outputs": [
        {
          "output_type": "stream",
          "name": "stdout",
          "text": [
            "(<class 'object'>,)\n"
          ]
        },
        {
          "output_type": "execute_result",
          "data": {
            "text/plain": [
              "(object,)"
            ]
          },
          "metadata": {},
          "execution_count": 54
        }
      ]
    },
    {
      "cell_type": "code",
      "source": [],
      "metadata": {
        "id": "gz4k15MDrNxD"
      },
      "execution_count": null,
      "outputs": []
    }
  ]
}